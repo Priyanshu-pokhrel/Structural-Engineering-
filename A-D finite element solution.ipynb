{
 "cells": [
  {
   "cell_type": "markdown",
   "id": "d26b2753",
   "metadata": {},
   "source": [
    "# Analytical solution"
   ]
  },
  {
   "cell_type": "code",
   "execution_count": 1,
   "id": "20cf720f",
   "metadata": {},
   "outputs": [],
   "source": [
    "import sympy as sp\n",
    "import numpy as np\n",
    "import matplotlib.pyplot as plt\n",
    "\n",
    "#define the value of knowns\n",
    "u=3\n",
    "k=1\n",
    "f=1\n",
    "\n",
    "# Define the variable and the function\n",
    "x = sp.symbols('x')\n",
    "T = sp.Function('T')(x)\n",
    "\n",
    "# Define the total derivative\n",
    "dT_dx = T.diff(x)\n",
    "d2T_dx2 = T.diff(x, 2)\n",
    "\n",
    "# Create the equation using total derivatives\n",
    "pde = sp.Eq(u * dT_dx - k*d2T_dx2, f)\n",
    "\n",
    "# Display the equation\n",
    "#sp.pretty(pde)\n",
    "\n",
    "# Solve the ODE with initial and final conditions\n",
    "sol = sp.dsolve(pde, ics={T.subs(x, 0): 0, T.subs(x, 1): 0})  # Adjust the initial and final conditions as needed\n",
    "\n",
    "# Define the range of x values\n",
    "x_values = np.linspace(0, 1, 100)  # Adjust the range and number of points as needed\n",
    "\n",
    "# Substitute the solution into the expression for T\n",
    "T_values = [sol.rhs.subs(x, val).evalf() for val in x_values]\n"
   ]
  },
  {
   "cell_type": "markdown",
   "id": "6cf27300",
   "metadata": {},
   "source": [
    "# create a local stiffness matrix"
   ]
  },
  {
   "cell_type": "code",
   "execution_count": 2,
   "id": "647fcc2f",
   "metadata": {},
   "outputs": [],
   "source": [
    "import sympy as sp\n",
    "from scipy import integrate\n",
    "\n",
    "# Define the variable and the functions\n",
    "zi = sp.symbols('zi')\n",
    "S1 = sp.Function('S1')(zi)\n",
    "S2 = sp.Function('S2')(zi)\n",
    "\n",
    "# Define shape functions\n",
    "S1 = (1 - zi) / 2\n",
    "S2 = (1 + zi) / 2\n",
    "\n",
    "# Define the total derivative\n",
    "dS1_dzi = S1.diff(zi)\n",
    "dS2_dzi = S2.diff(zi)\n",
    "\n",
    "# Number of nodes and elements\n",
    "num_nodes = 6\n",
    "num_elements = 5\n",
    "\n",
    "# Define Je\n",
    "he=1/num_elements\n",
    "Je=he/2\n",
    "\n",
    "\n",
    "# Define the combinations of shape functions\n",
    "combinations = [(S1, S1), (S1, S2), (S2, S1), (S2, S2)]\n",
    "\n",
    "# Initialize a dictionary to store the integration results\n",
    "integration_results = np.array([])\n",
    "\n",
    "# Perform integration for each combination\n",
    "for combination in combinations:\n",
    "    S1_comb, S2_comb = combination\n",
    "    \n",
    "    # Define the function to be integrated based on the combination\n",
    "    def f(zi_value):\n",
    "        S1_value = S1_comb.subs(zi, zi_value)\n",
    "        dS1_dzi_value = S1_comb.diff(zi).subs(zi, zi_value)\n",
    "        dS2_dzi_value = S2_comb.diff(zi).subs(zi, zi_value)\n",
    "        return (S1_value * u * dS2_dzi_value * (1 / Je) + k * (dS1_dzi_value) * (1 / Je) * (dS2_dzi_value) * (1 / Je)) * Je\n",
    "    \n",
    "    # Use integrate.quad with the numerical function\n",
    "    result, error = integrate.quad(f, -1, 1)\n",
    "    \n",
    "    # Store the result in the dictionary\n",
    "    integration_results = np.append(integration_results,np.round(result,1))\n",
    "\n"
   ]
  },
  {
   "cell_type": "markdown",
   "id": "f0cdb894",
   "metadata": {},
   "source": [
    "# Assemble a global stiffness matrix"
   ]
  },
  {
   "cell_type": "code",
   "execution_count": 3,
   "id": "5fb3843f",
   "metadata": {},
   "outputs": [
    {
     "name": "stdout",
     "output_type": "stream",
     "text": [
      "Global Stiffness Matrix:\n",
      "[[ 3.5 -3.5  0.   0.   0.   0. ]\n",
      " [-6.5 10.  -3.5  0.   0.   0. ]\n",
      " [ 0.  -6.5 10.  -3.5  0.   0. ]\n",
      " [ 0.   0.  -6.5 10.  -3.5  0. ]\n",
      " [ 0.   0.   0.  -6.5 10.  -3.5]\n",
      " [ 0.   0.   0.   0.  -6.5  6.5]]\n"
     ]
    }
   ],
   "source": [
    "import numpy as np\n",
    "\n",
    "\n",
    "# Initialize the global stiffness matrix\n",
    "K_global = np.zeros((num_nodes, num_nodes))\n",
    "\n",
    "# Define the local stiffness matrices for each element (assuming 2x2 matrices)\n",
    "K_element_1 = np.array([[integration_results[0],integration_results[1] ],\n",
    "                         [integration_results[2],integration_results[3]]])  # Replace k11, k12, k21, k22 with actual values\n",
    "\n",
    "K_element_2 = np.array([[integration_results[0],integration_results[1] ],\n",
    "                         [integration_results[2],integration_results[3]]])\n",
    "\n",
    "\n",
    "# Define the connectivity of elements to nodes\n",
    "element_node_connectivity = {\n",
    "    1: [1, 2],\n",
    "    2: [2, 3],\n",
    "    3: [3, 4],\n",
    "    4: [4, 5],\n",
    "    5: [5, 6]\n",
    "}\n",
    "\n",
    "# Assemble the local stiffness matrices into the global stiffness matrix\n",
    "for element in range(1, num_elements + 1):\n",
    "    # Get the nodes associated with the current element\n",
    "    nodes = element_node_connectivity[element]\n",
    "\n",
    "    # Add the contributions of the local stiffness matrix to the global stiffness matrix\n",
    "    for i, node_i in enumerate(nodes):\n",
    "        for j, node_j in enumerate(nodes):\n",
    "            # Map local degrees of freedom to global degrees of freedom\n",
    "            global_dof_i = node_i - 1  \n",
    "            global_dof_j = node_j - 1  \n",
    "\n",
    "            # Add the contribution of the local stiffness matrix to the global stiffness matrix\n",
    "            if node_i==node_j and node_i>1 and node_i<6:\n",
    "                K_global[global_dof_i, global_dof_j] = K_element_1[i, j] + K_element_2[i-1, j-1]\n",
    "            else:\n",
    "                K_global[global_dof_i, global_dof_j] = K_element_1[i, j]\n",
    "                \n",
    "\n",
    "# Print the global stiffness matrix\n",
    "print(\"Global Stiffness Matrix:\")\n",
    "print(K_global)"
   ]
  },
  {
   "cell_type": "markdown",
   "id": "297522b2",
   "metadata": {},
   "source": [
    "# Create a F matrix "
   ]
  },
  {
   "cell_type": "code",
   "execution_count": 4,
   "id": "3f69afba",
   "metadata": {},
   "outputs": [
    {
     "name": "stdout",
     "output_type": "stream",
     "text": [
      "[[0.1]\n",
      " [0.2]\n",
      " [0.2]\n",
      " [0.2]\n",
      " [0.2]\n",
      " [0.1]]\n"
     ]
    }
   ],
   "source": [
    "def g(zi_value):\n",
    "        S1_value = S1.subs(zi, zi_value)\n",
    "        \n",
    "        return (S1_value * 1 * 0.1)\n",
    "\n",
    "r_1, error = integrate.quad(g, -1, 1)\n",
    "\n",
    "\n",
    "def h(zi_value):\n",
    "        S2_value = S2.subs(zi, zi_value)\n",
    "        \n",
    "        return (S2_value * 1 * 0.1)\n",
    "\n",
    "r_2, error = integrate.quad(h, -1, 1)\n",
    "\n",
    "F_global = np.zeros((num_nodes, 1))\n",
    "\n",
    "\n",
    "matrices = [\n",
    "    np.array([[r_1], [r_2]]),\n",
    "    np.array([[r_1], [r_2]]),\n",
    "    np.array([[r_1], [r_2]]),\n",
    "    np.array([[r_1], [r_2]]),\n",
    "    np.array([[r_1], [r_2]]),\n",
    "    np.array([[r_1], [r_2]])\n",
    "]\n",
    "\n",
    "\n",
    "# Initialize the matrix as an empty list\n",
    "F = []\n",
    "\n",
    "# Iterate through the matrices and concatenate the rows\n",
    "for i, matrix in enumerate(matrices):\n",
    "    if i == 0:\n",
    "        F.append(matrix[0])\n",
    "    elif i == len(matrices) - 1:\n",
    "        F.append(matrix[1])\n",
    "    else:\n",
    "        F.append(matrix[1] + matrices[i + 1][0])\n",
    "\n",
    "# Convert the result to a NumPy array\n",
    "F = np.array(F)\n",
    "\n",
    "print(F)\n",
    "\n"
   ]
  },
  {
   "cell_type": "markdown",
   "id": "33d7c7b7",
   "metadata": {},
   "source": [
    "# Perform Matrix reduction "
   ]
  },
  {
   "cell_type": "code",
   "execution_count": 5,
   "id": "10400aa0",
   "metadata": {},
   "outputs": [
    {
     "name": "stdout",
     "output_type": "stream",
     "text": [
      "[[10.  -3.5  0.   0. ]\n",
      " [-6.5 10.  -3.5  0. ]\n",
      " [ 0.  -6.5 10.  -3.5]\n",
      " [ 0.   0.  -6.5 10. ]]\n"
     ]
    }
   ],
   "source": [
    "# define initial and boundary conditions\n",
    "T1=0\n",
    "T6=0\n",
    "B2,B3,B4,B5=0,0,0,0\n",
    "T2,T3,T4,T5,B1,B6='T2','T3','T4','T5','B1','B6'\n",
    "\n",
    "# Create a unknown T vector \n",
    "T = np.array([\n",
    "    [T1],\n",
    "    [T2],\n",
    "    [T3],\n",
    "    [T4],\n",
    "    [T5],\n",
    "    [T6]\n",
    "])\n",
    "\n",
    "# Create a boundary condition B vector \n",
    "B = np.array([\n",
    "    [B1],\n",
    "    [B2],\n",
    "    [B3],\n",
    "    [B4],\n",
    "    [B5],\n",
    "    [B6]\n",
    "])\n",
    "\n",
    "non_zero_indices=np.array([],dtype= int)\n",
    "for i, value in enumerate(T):\n",
    "    if T[i]=='0':\n",
    "        continue\n",
    "    else:\n",
    "        non_zero_indices=np.append(non_zero_indices,i)\n",
    "\n",
    "filtered_F=np.array([])\n",
    "for i in non_zero_indices:\n",
    "    filtered_F=np.append(filtered_F,F[i,0])\n",
    "\n",
    "filtered_F=filtered_F.reshape(4,1)\n",
    "\n",
    "filtered_B=np.array([])\n",
    "for i in non_zero_indices:\n",
    "    filtered_B=np.append(filtered_B,B[i,0])\n",
    "\n",
    "filtered_B=filtered_B.reshape(4,1).astype(int)\n",
    "\n",
    "filtered_K=np.array([])\n",
    "for i in non_zero_indices:\n",
    "    for j in non_zero_indices:\n",
    "        filtered_K=np.append(filtered_K,K_global[i,j])\n",
    "\n",
    "filtered_K=filtered_K.reshape(4,4)\n",
    "print(filtered_K)"
   ]
  },
  {
   "cell_type": "markdown",
   "id": "ebd14f5c",
   "metadata": {},
   "source": [
    "# Calculate the unknowns "
   ]
  },
  {
   "cell_type": "code",
   "execution_count": 6,
   "id": "e0ac520e",
   "metadata": {},
   "outputs": [
    {
     "name": "stdout",
     "output_type": "stream",
     "text": [
      "Vector t is:\n",
      "[[0.05312029]\n",
      " [0.09462941]\n",
      " [0.11457491]\n",
      " [0.09447369]]\n"
     ]
    }
   ],
   "source": [
    "# Calculate the inverse of matrix k\n",
    "k_inverse = np.linalg.inv(filtered_K)\n",
    "\n",
    "# Calculate vector t using the formula t = k^(-1) * (a + b)\n",
    "t = np.dot(k_inverse, filtered_F+filtered_B)\n",
    "\n",
    "# Print the result\n",
    "print(\"Vector t is:\")\n",
    "print(t)"
   ]
  },
  {
   "cell_type": "markdown",
   "id": "ff255d54",
   "metadata": {},
   "source": [
    "# Plot the result "
   ]
  },
  {
   "cell_type": "code",
   "execution_count": 7,
   "id": "f39a629c",
   "metadata": {},
   "outputs": [
    {
     "name": "stdout",
     "output_type": "stream",
     "text": [
      "[0.  0.2 0.4 0.6 0.8 1. ]\n",
      "[0.         0.05312029 0.09462941 0.11457491 0.09447369 0.        ]\n"
     ]
    },
    {
     "data": {
      "image/png": "[encoded data removed]",
      "text/plain": [
       "<Figure size 576x432 with 1 Axes>"
      ]
     },
     "metadata": {
      "needs_background": "light"
     },
     "output_type": "display_data"
    }
   ],
   "source": [
    "t= np.insert(t, 0, T1)\n",
    "t= np.insert(t, 5, T6)\n",
    "x=np.linspace(0,1,6)\n",
    "print(x)\n",
    "print(t)\n",
    "\n",
    "# Plot T against x\n",
    "plt.figure(figsize=(8, 6))\n",
    "plt.plot(x_values, T_values, label='T(x)-ANALYTICAL')\n",
    "plt.plot(x, t, label='T(x)-FEM')\n",
    "plt.xlabel('x')\n",
    "plt.ylabel('T(x)')\n",
    "plt.title('Plot of T(x)')\n",
    "plt.grid(True)\n",
    "plt.legend()\n",
    "plt.show()"
   ]
  }
 ],
 "metadata": {
  "kernelspec": {
   "display_name": "Python 3",
   "language": "python",
   "name": "python3"
  },
  "language_info": {
   "codemirror_mode": {
    "name": "ipython",
    "version": 3
   },
   "file_extension": ".py",
   "mimetype": "text/x-python",
   "name": "python",
   "nbconvert_exporter": "python",
   "pygments_lexer": "ipython3",
   "version": "3.9.5"
  }
 },
 "nbformat": 4,
 "nbformat_minor": 5
}
