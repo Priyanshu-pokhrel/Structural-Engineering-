{
 "cells": [
  {
   "cell_type": "markdown",
   "id": "d26b2753",
   "metadata": {},
   "source": [
    "# Analytical solution"
   ]
  },
  {
   "cell_type": "code",
   "execution_count": null,
   "id": "21e3b3fb",
   "metadata": {},
   "outputs": [],
   "source": [
    "import sympy as sp\n",
    "import numpy as np\n",
    "import matplotlib.pyplot as plt\n",
    "from scipy import integrate"
   ]
  },
  {
   "cell_type": "code",
   "execution_count": null,
   "id": "a8050ae4",
   "metadata": {},
   "outputs": [],
   "source": [
    "#Define the Input Values\n",
    "\n",
    "#define the value of knowns\n",
    "u=3\n",
    "k=1\n",
    "f=1\n",
    "\n",
    "#Define a range of x_values\n",
    "x_start=0\n",
    "x_end=1\n",
    "\n",
    "#Define boundary conditions\n",
    "T_start=0\n",
    "T_end=0\n",
    "\n",
    "# Number of nodes and elements\n",
    "num_elements = 1024\n",
    "num_nodes = num_elements+1\n",
    "\n"
   ]
  },
  {
   "cell_type": "code",
   "execution_count": null,
   "id": "20cf720f",
   "metadata": {},
   "outputs": [],
   "source": [
    "# Define the variable and the function\n",
    "x = sp.symbols('x')\n",
    "T = sp.Function('T')(x)\n",
    "\n",
    "# Define the total derivative\n",
    "dT_dx = T.diff(x)\n",
    "d2T_dx2 = T.diff(x, 2)\n",
    "\n",
    "# Create the equation using total derivatives\n",
    "pde = sp.Eq(u * dT_dx - k*d2T_dx2, f)\n",
    "\n",
    "# Display the equation\n",
    "#sp.pretty(pde)\n",
    "\n",
    "# Solve the ODE with initial and final conditions\n",
    "sol = sp.dsolve(pde, ics={T.subs(x, x_start): T_start, T.subs(x, x_end): T_end})  # Adjust the initial and final conditions as needed\n",
    "\n",
    "# Define the range of x values\n",
    "x_values = np.linspace(x_start, x_end, 100)  # Adjust the range and number of points as needed\n",
    "\n",
    "# Substitute the solution into the expression for T\n",
    "T_values = [sol.rhs.subs(x, val).evalf() for val in x_values]\n"
   ]
  },
  {
   "cell_type": "markdown",
   "id": "6cf27300",
   "metadata": {},
   "source": [
    "# create a local stiffness matrix"
   ]
  },
  {
   "cell_type": "code",
   "execution_count": null,
   "id": "647fcc2f",
   "metadata": {},
   "outputs": [],
   "source": [
    "# Define the variable and the functions\n",
    "zi = sp.symbols('zi')\n",
    "S1 = sp.Function('S1')(zi)\n",
    "S2 = sp.Function('S2')(zi)\n",
    "\n",
    "# Define shape functions\n",
    "S1 = (1 - zi) / 2\n",
    "S2 = (1 + zi) / 2\n",
    "\n",
    "shape_functions=np.array([S1,S2])\n",
    "# Define the total derivative\n",
    "dS1_dzi = S1.diff(zi)\n",
    "dS2_dzi = S2.diff(zi)\n",
    "\n",
    "# Define Je\n",
    "he=1/num_elements\n",
    "Je=he/2\n",
    "\n",
    "# Define the combinations of shape functions\n",
    "combinations = [(S1, S1), (S1, S2), (S2, S1), (S2, S2)]\n",
    "\n",
    "# Initialize a dictionary to store the integration results\n",
    "integration_results = np.array([])\n",
    "\n",
    "# Perform integration for each combination\n",
    "for combination in combinations:\n",
    "    S1_comb, S2_comb = combination\n",
    "    \n",
    "    # Define the function to be integrated based on the combination\n",
    "    def f(zi_value):\n",
    "        S1_value = S1_comb.subs(zi, zi_value)\n",
    "        dS1_dzi_value = S1_comb.diff(zi).subs(zi, zi_value)\n",
    "        dS2_dzi_value = S2_comb.diff(zi).subs(zi, zi_value)\n",
    "        return (S1_value * u * dS2_dzi_value * (1 / Je) + k * (dS1_dzi_value) * (1 / Je) * (dS2_dzi_value) * (1 / Je)) * Je\n",
    "    \n",
    "    # Use integrate.quad with the numerical function\n",
    "    result, error = integrate.quad(f, -1, 1)\n",
    "    \n",
    "    # Store the result in the dictionary\n",
    "    integration_results = np.append(integration_results,np.round(result,1))\n",
    "\n",
    "print(integration_results)"
   ]
  },
  {
   "cell_type": "markdown",
   "id": "f0cdb894",
   "metadata": {},
   "source": [
    "# Assemble a global stiffness matrix"
   ]
  },
  {
   "cell_type": "code",
   "execution_count": null,
   "id": "5fb3843f",
   "metadata": {},
   "outputs": [],
   "source": [
    "# Initialize the global stiffness matrix\n",
    "K_global = np.zeros((num_nodes, num_nodes))\n",
    "\n",
    "# Define the local stiffness matrices for each element (assuming 2x2 matrices)\n",
    "K_element_1 = np.array([[integration_results[0],integration_results[1] ],\n",
    "                         [integration_results[2],integration_results[3]]])  # Replace k11, k12, k21, k22 with actual values\n",
    "\n",
    "K_element_2 = np.array([[integration_results[0],integration_results[1] ],\n",
    "                         [integration_results[2],integration_results[3]]])\n",
    "\n",
    "\n",
    "# Define the connectivity of elements to nodes\n",
    "def create_element_node_connectivity(num_elements):\n",
    "    element_node_connectivity={}\n",
    "    for i in range(1,num_elements+1):\n",
    "        element_node_connectivity[i]=[i,i+1]\n",
    "        \n",
    "    return element_node_connectivity \n",
    "\n",
    "element_node_connectivity=create_element_node_connectivity(num_elements)\n",
    "\n",
    "# Assemble the local stiffness matrices into the global stiffness matrix\n",
    "for element in range(1, num_elements + 1):\n",
    "    # Get the nodes associated with the current element\n",
    "    nodes = element_node_connectivity[element]\n",
    "\n",
    "    # Add the contributions of the local stiffness matrix to the global stiffness matrix\n",
    "    for i, node_i in enumerate(nodes):\n",
    "        for j, node_j in enumerate(nodes):\n",
    "            # Map local degrees of freedom to global degrees of freedom\n",
    "            global_dof_i = node_i - 1  \n",
    "            global_dof_j = node_j - 1  \n",
    "\n",
    "            # Add the contribution of the local stiffness matrix to the global stiffness matrix\n",
    "            if node_i==node_j and node_i>1 and node_i<num_nodes:\n",
    "                K_global[global_dof_i, global_dof_j] = K_element_1[i, j] + K_element_2[i-1, j-1]\n",
    "            else:\n",
    "                K_global[global_dof_i, global_dof_j] = K_element_1[i, j]\n",
    "                \n",
    "\n",
    "# Print the global stiffness matrix\n",
    "print(\"Global Stiffness Matrix:\")\n",
    "print(K_global)"
   ]
  },
  {
   "cell_type": "markdown",
   "id": "297522b2",
   "metadata": {},
   "source": [
    "# Create a F matrix "
   ]
  },
  {
   "cell_type": "code",
   "execution_count": null,
   "id": "3f69afba",
   "metadata": {},
   "outputs": [],
   "source": [
    "F_matrix = []\n",
    "for one_shape_function in shape_functions:\n",
    "    expression = one_shape_function * 1 * Je\n",
    "    definite_integral_result = sp.integrate(expression, (zi, -1, 1))\n",
    "    F_matrix.append(definite_integral_result)\n",
    "\n",
    "F_global = np.zeros((num_nodes, 1))\n",
    "\n",
    "for i in range(0,num_nodes):\n",
    "    if i==0:\n",
    "        F_global[i,0]=F_matrix[0]\n",
    "    elif i==num_nodes-1:\n",
    "        F_global[i,0]=F_matrix[0]\n",
    "    else:\n",
    "        F_global[i,0]=F_matrix[0]+F_matrix[1]\n",
    "        \n",
    "print(F_global)\n",
    "    \n"
   ]
  },
  {
   "cell_type": "markdown",
   "id": "33d7c7b7",
   "metadata": {},
   "source": [
    "# Perform Matrix reduction "
   ]
  },
  {
   "cell_type": "code",
   "execution_count": null,
   "id": "10400aa0",
   "metadata": {},
   "outputs": [],
   "source": [
    "T = np.array([T_start] + [f'T{i}' for i in range(1, num_nodes-1)] + [T_end])\n",
    "\n",
    "B=[]\n",
    "\n",
    "for i in range(1,num_nodes+1):\n",
    "    if i==1:\n",
    "        B=np.append(B,f'B{i}')\n",
    "    elif i==num_nodes:\n",
    "        B=np.append(B,f'B{i}')\n",
    "    else:\n",
    "        B=np.append(B,0)\n",
    "\n",
    "non_zero_indices=np.array([],dtype= int)\n",
    "\n",
    "\n",
    "for i, value in enumerate(T):\n",
    "    if T[i]=='0':\n",
    "        continue\n",
    "    else:\n",
    "        non_zero_indices=np.append(non_zero_indices,i)\n",
    "\n",
    "length=len(non_zero_indices)\n",
    "\n",
    "\n",
    "filtered_F=np.array([])\n",
    "for i in non_zero_indices:\n",
    "    filtered_F=np.append(filtered_F,F_global[i,0])\n",
    "\n",
    "filtered_F=filtered_F.reshape(length,1)\n",
    "\n",
    "filtered_B=np.array([])\n",
    "for i in non_zero_indices:\n",
    "    filtered_B=np.append(filtered_B,B[i])\n",
    "\n",
    "filtered_B=filtered_B.reshape(length,1).astype(int)\n",
    "\n",
    "filtered_K=np.array([])\n",
    "for i in non_zero_indices:\n",
    "    for j in non_zero_indices:\n",
    "        filtered_K=np.append(filtered_K,K_global[i,j])\n",
    "\n",
    "filtered_K=filtered_K.reshape(length,length)\n",
    "\n",
    "print(non_zero_indices)"
   ]
  },
  {
   "cell_type": "markdown",
   "id": "ebd14f5c",
   "metadata": {},
   "source": [
    "# Calculate the unknowns "
   ]
  },
  {
   "cell_type": "code",
   "execution_count": null,
   "id": "e0ac520e",
   "metadata": {},
   "outputs": [],
   "source": [
    "# Calculate the inverse of matrix k\n",
    "k_inverse = np.linalg.inv(filtered_K)\n",
    "\n",
    "\n",
    "# Calculate vector t using the formula t = k^(-1) * (a + b)\n",
    "t = np.dot(k_inverse, filtered_F+filtered_B)\n",
    "\n",
    "# Print the result\n",
    "print(\"Vector t is:\")\n",
    "print(t)"
   ]
  },
  {
   "cell_type": "markdown",
   "id": "ff255d54",
   "metadata": {},
   "source": [
    "# Plot the result "
   ]
  },
  {
   "cell_type": "code",
   "execution_count": null,
   "id": "f39a629c",
   "metadata": {},
   "outputs": [],
   "source": [
    "t= np.insert(t, 0, T_start)\n",
    "t= np.insert(t, num_nodes-1, T_end)\n",
    "x=np.linspace(0,1,num_nodes)\n",
    "\n",
    "\n",
    "# Plot T against x\n",
    "plt.figure(figsize=(8, 6))\n",
    "plt.plot(x_values, T_values, label='T(x)-ANALYTICAL')\n",
    "plt.plot(x, t, label='T(x)-FEM')\n",
    "plt.xlabel('x')\n",
    "plt.ylabel('T(x)')\n",
    "plt.title('Plot of T(x)')\n",
    "plt.grid(True)\n",
    "plt.legend()\n",
    "plt.show()"
   ]
  }
 ],
 "metadata": {
  "kernelspec": {
   "display_name": "Python 3",
   "language": "python",
   "name": "python3"
  },
  "language_info": {
   "codemirror_mode": {
    "name": "ipython",
    "version": 3
   },
   "file_extension": ".py",
   "mimetype": "text/x-python",
   "name": "python",
   "nbconvert_exporter": "python",
   "pygments_lexer": "ipython3",
   "version": "3.9.5"
  }
 },
 "nbformat": 4,
 "nbformat_minor": 5
}
